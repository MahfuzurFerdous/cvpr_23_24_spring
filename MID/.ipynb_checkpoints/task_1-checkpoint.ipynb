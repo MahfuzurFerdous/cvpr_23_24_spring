{
 "cells": [
  {
   "cell_type": "code",
   "execution_count": null,
   "id": "a0c1468a-e438-40d9-a00c-21c388355985",
   "metadata": {},
   "outputs": [],
   "source": [
    "numbers = list(range(1, 11))\n"
   ]
  },
  {
   "cell_type": "code",
   "execution_count": null,
   "id": "b544bfc8-9372-4460-8ed9-fa98d8df74ea",
   "metadata": {},
   "outputs": [],
   "source": [
    "for num in numbers:\n",
    "    numbers.append(num ** 2)"
   ]
  },
  {
   "cell_type": "code",
   "execution_count": null,
   "id": "2936d0dd-c96a-4ad9-a03b-d573710f06ac",
   "metadata": {},
   "outputs": [],
   "source": [
    "    sum_of_elements = sum(numbers)\n",
    "print(\"Sum of all elements in the list:\", sum_of_elements)"
   ]
  },
  {
   "cell_type": "code",
   "execution_count": null,
   "id": "afbbfd45-f6e5-4040-b19c-243994e04cd0",
   "metadata": {},
   "outputs": [],
   "source": [
    "even_numbers = (2, 4, 6, 8, 10)\n"
   ]
  },
  {
   "cell_type": "code",
   "execution_count": null,
   "id": "c8695a74-9d52-494a-a331-024131478e1e",
   "metadata": {},
   "outputs": [],
   "source": [
    "product = 1\n",
    "for num in even_numbers:\n",
    "    product *= num\n",
    "\n",
    "print(\"Product of all elements in the tuple:\", product)"
   ]
  },
  {
   "cell_type": "code",
   "execution_count": null,
   "id": "1f516e03-a6b2-4041-956e-a8970f76d605",
   "metadata": {},
   "outputs": [],
   "source": [
    "odd_set1 = {1, 3, 5, 7, 9}\n",
    "odd_set2 = {1, 3, 5, 7}\n"
   ]
  },
  {
   "cell_type": "code",
   "execution_count": null,
   "id": "1a9210f3-65e8-4245-b18a-43f0cb98f689",
   "metadata": {},
   "outputs": [],
   "source": [
    "union_set = odd_set1.union(odd_set2)\n",
    "print(\"Union of the two sets:\", union_set)"
   ]
  },
  {
   "cell_type": "code",
   "execution_count": null,
   "id": "704437f9-ea83-44ce-b667-6ab5ed583117",
   "metadata": {},
   "outputs": [],
   "source": [
    "intersection_set = odd_set1.intersection(odd_set2)\n",
    "print(\"Intersection of the two sets:\", intersection_set)"
   ]
  },
  {
   "cell_type": "code",
   "execution_count": null,
   "id": "8321ba77-4542-4c40-b1b7-05e7fb75c129",
   "metadata": {},
   "outputs": [],
   "source": [
    "def square(x):\n",
    "    return x ** 2\n",
    "    "
   ]
  },
  {
   "cell_type": "code",
   "execution_count": null,
   "id": "cc1db97b-8a33-43b7-8a3b-d34c3503876d",
   "metadata": {},
   "outputs": [],
   "source": [
    "numbers = list(range(1, 11))\n",
    "squared_numbers = list(map(square, numbers))"
   ]
  },
  {
   "cell_type": "code",
   "execution_count": null,
   "id": "0a9cb357-2cbd-4edc-a4f1-bfebcae168d9",
   "metadata": {},
   "outputs": [],
   "source": [
    "print(\"Original numbers:\", numbers)\n",
    "print(\"Squared numbers:\", squared_numbers)"
   ]
  },
  {
   "cell_type": "code",
   "execution_count": null,
   "id": "4c415489-3f6b-4a7e-aee1-c2c3bfafbc95",
   "metadata": {},
   "outputs": [],
   "source": []
  }
 ],
 "metadata": {
  "kernelspec": {
   "display_name": "Python 3 (ipykernel)",
   "language": "python",
   "name": "python3"
  },
  "language_info": {
   "codemirror_mode": {
    "name": "ipython",
    "version": 3
   },
   "file_extension": ".py",
   "mimetype": "text/x-python",
   "name": "python",
   "nbconvert_exporter": "python",
   "pygments_lexer": "ipython3",
   "version": "3.12.1"
  }
 },
 "nbformat": 4,
 "nbformat_minor": 5
}
